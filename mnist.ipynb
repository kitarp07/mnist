{
  "nbformat": 4,
  "nbformat_minor": 0,
  "metadata": {
    "colab": {
      "provenance": [],
      "authorship_tag": "ABX9TyNb9tgWNL8n720svoqrPyFP",
      "include_colab_link": true
    },
    "kernelspec": {
      "name": "python3",
      "display_name": "Python 3"
    },
    "language_info": {
      "name": "python"
    }
  },
  "cells": [
    {
      "cell_type": "markdown",
      "metadata": {
        "id": "view-in-github",
        "colab_type": "text"
      },
      "source": [
        "<a href=\"https://colab.research.google.com/github/kitarp07/mnist/blob/main/mnist.ipynb\" target=\"_parent\"><img src=\"https://colab.research.google.com/assets/colab-badge.svg\" alt=\"Open In Colab\"/></a>"
      ]
    },
    {
      "cell_type": "code",
      "execution_count": null,
      "metadata": {
        "id": "gv9fT_mNzQH4"
      },
      "outputs": [],
      "source": [
        "import tensorflow as tf\n",
        "import pandas as pd\n",
        "import numpy as np"
      ]
    },
    {
      "cell_type": "code",
      "source": [
        "from tensorflow.keras.datasets import mnist"
      ],
      "metadata": {
        "id": "Qt7CFygGzUZb"
      },
      "execution_count": null,
      "outputs": []
    },
    {
      "cell_type": "code",
      "source": [
        "(x_train, y_train), (x_test, y_test) = mnist.load_data()"
      ],
      "metadata": {
        "colab": {
          "base_uri": "https://localhost:8080/"
        },
        "id": "3enUwvVWzXf5",
        "outputId": "3ee0d1c4-985f-4aa9-fa1c-179dd14de028"
      },
      "execution_count": null,
      "outputs": [
        {
          "output_type": "stream",
          "name": "stdout",
          "text": [
            "Downloading data from https://storage.googleapis.com/tensorflow/tf-keras-datasets/mnist.npz\n",
            "11490434/11490434 [==============================] - 0s 0us/step\n"
          ]
        }
      ]
    },
    {
      "cell_type": "code",
      "source": [
        "x_train.shape, y_train"
      ],
      "metadata": {
        "colab": {
          "base_uri": "https://localhost:8080/"
        },
        "id": "iCWvNgO9zfWF",
        "outputId": "e6d16e63-72be-420a-8471-6a5a999d7dc5"
      },
      "execution_count": null,
      "outputs": [
        {
          "output_type": "execute_result",
          "data": {
            "text/plain": [
              "((60000, 28, 28), array([5, 0, 4, ..., 5, 6, 8], dtype=uint8))"
            ]
          },
          "metadata": {},
          "execution_count": 4
        }
      ]
    },
    {
      "cell_type": "code",
      "source": [
        "x_train = x_train.astype(\"float32\")/ 255.0\n",
        "\n",
        "x_test = x_test.astype(\"float32\")/ 255.0"
      ],
      "metadata": {
        "id": "DGZySy0ozhA8"
      },
      "execution_count": null,
      "outputs": []
    },
    {
      "cell_type": "code",
      "source": [
        "import matplotlib.pyplot as plt\n",
        "\n",
        "plt.imshow(x_train[0], cmap = plt.cm.binary)"
      ],
      "metadata": {
        "colab": {
          "base_uri": "https://localhost:8080/",
          "height": 447
        },
        "id": "vzSovbHT02wA",
        "outputId": "5cb26e8f-f5b3-4000-a3c8-9e1ee76d2415"
      },
      "execution_count": null,
      "outputs": [
        {
          "output_type": "execute_result",
          "data": {
            "text/plain": [
              "<matplotlib.image.AxesImage at 0x7fe9d4714580>"
            ]
          },
          "metadata": {},
          "execution_count": 6
        },
        {
          "output_type": "display_data",
          "data": {
            "text/plain": [
              "<Figure size 640x480 with 1 Axes>"
            ],
            "image/png": "[encoded data removed]"
          },
          "metadata": {}
        }
      ]
    },
    {
      "cell_type": "code",
      "source": [
        "index=3\n",
        "plt.imshow(x_train[index], cmap = plt.cm.binary)\n",
        "plt.title(y_train[index])"
      ],
      "metadata": {
        "colab": {
          "base_uri": "https://localhost:8080/",
          "height": 469
        },
        "id": "EFiEhVuk02GR",
        "outputId": "113a88e7-04a6-40a4-b116-fa610b74a2e1"
      },
      "execution_count": null,
      "outputs": [
        {
          "output_type": "execute_result",
          "data": {
            "text/plain": [
              "Text(0.5, 1.0, '1')"
            ]
          },
          "metadata": {},
          "execution_count": 7
        },
        {
          "output_type": "display_data",
          "data": {
            "text/plain": [
              "<Figure size 640x480 with 1 Axes>"
            ],
            "image/png": "[encoded data removed]"
          },
          "metadata": {}
        }
      ]
    },
    {
      "cell_type": "code",
      "source": [
        "y_train = y_train.astype(\"float32\")\n",
        "y_test = y_test.astype(\"float32\")"
      ],
      "metadata": {
        "id": "5Sp4LSW-01vv"
      },
      "execution_count": null,
      "outputs": []
    },
    {
      "cell_type": "code",
      "source": [],
      "metadata": {
        "id": "yZ4vEvFk01ZG"
      },
      "execution_count": null,
      "outputs": []
    },
    {
      "cell_type": "code",
      "source": [],
      "metadata": {
        "id": "-vr0G6Hi00so"
      },
      "execution_count": null,
      "outputs": []
    },
    {
      "cell_type": "code",
      "source": [
        "tf.random.set_seed(42)\n",
        "\n",
        "model = tf.keras.Sequential([\n",
        "    tf.keras.layers.Flatten(input_shape=(28,28)),\n",
        "    tf.keras.layers.Dense(10, activation='relu'),\n",
        "    tf.keras.layers.Dense(10, activation='relu'),\n",
        "    tf.keras.layers.Dense(10, activation=\"softmax\")\n",
        "])\n",
        "\n",
        "model.compile(loss = tf.keras.losses.SparseCategoricalCrossentropy(\n",
        "),\n",
        "              optimizer = tf.keras.optimizers.Adam(),\n",
        "              metrics=[\"accuracy\"])\n",
        "\n",
        "history = model.fit(x_train, y_train, epochs=20)\n"
      ],
      "metadata": {
        "colab": {
          "base_uri": "https://localhost:8080/"
        },
        "id": "JMtow0xKz9rV",
        "outputId": "877f6341-b33d-413c-c9e2-f0c3a5fe5a11"
      },
      "execution_count": null,
      "outputs": [
        {
          "output_type": "stream",
          "name": "stdout",
          "text": [
            "Epoch 1/20\n",
            "1875/1875 [==============================] - 4s 2ms/step - loss: 0.5684 - accuracy: 0.8333\n",
            "Epoch 2/20\n",
            "1875/1875 [==============================] - 2s 1ms/step - loss: 0.3006 - accuracy: 0.9154\n",
            "Epoch 3/20\n",
            "1875/1875 [==============================] - 2s 1ms/step - loss: 0.2636 - accuracy: 0.9254\n",
            "Epoch 4/20\n",
            "1875/1875 [==============================] - 4s 2ms/step - loss: 0.2439 - accuracy: 0.9305\n",
            "Epoch 5/20\n",
            "1875/1875 [==============================] - 6s 3ms/step - loss: 0.2314 - accuracy: 0.9352\n",
            "Epoch 6/20\n",
            "1875/1875 [==============================] - 4s 2ms/step - loss: 0.2224 - accuracy: 0.9360\n",
            "Epoch 7/20\n",
            "1875/1875 [==============================] - 6s 3ms/step - loss: 0.2147 - accuracy: 0.9378\n",
            "Epoch 8/20\n",
            "1875/1875 [==============================] - 3s 2ms/step - loss: 0.2093 - accuracy: 0.9392\n",
            "Epoch 9/20\n",
            "1875/1875 [==============================] - 2s 1ms/step - loss: 0.2031 - accuracy: 0.9413\n",
            "Epoch 10/20\n",
            "1875/1875 [==============================] - 2s 1ms/step - loss: 0.1996 - accuracy: 0.9420\n",
            "Epoch 11/20\n",
            "1875/1875 [==============================] - 3s 2ms/step - loss: 0.1953 - accuracy: 0.9435\n",
            "Epoch 12/20\n",
            "1875/1875 [==============================] - 3s 1ms/step - loss: 0.1914 - accuracy: 0.9444\n",
            "Epoch 13/20\n",
            "1875/1875 [==============================] - 3s 1ms/step - loss: 0.1889 - accuracy: 0.9440\n",
            "Epoch 14/20\n",
            "1875/1875 [==============================] - 3s 2ms/step - loss: 0.1857 - accuracy: 0.9453\n",
            "Epoch 15/20\n",
            "1875/1875 [==============================] - 3s 2ms/step - loss: 0.1829 - accuracy: 0.9458\n",
            "Epoch 16/20\n",
            "1875/1875 [==============================] - 3s 1ms/step - loss: 0.1811 - accuracy: 0.9472\n",
            "Epoch 17/20\n",
            "1875/1875 [==============================] - 3s 1ms/step - loss: 0.1793 - accuracy: 0.9473\n",
            "Epoch 18/20\n",
            "1875/1875 [==============================] - 3s 1ms/step - loss: 0.1764 - accuracy: 0.9479\n",
            "Epoch 19/20\n",
            "1875/1875 [==============================] - 3s 1ms/step - loss: 0.1745 - accuracy: 0.9491\n",
            "Epoch 20/20\n",
            "1875/1875 [==============================] - 3s 2ms/step - loss: 0.1737 - accuracy: 0.9492\n"
          ]
        }
      ]
    },
    {
      "cell_type": "code",
      "source": [
        "model.evaluate(x_test, y_test)"
      ],
      "metadata": {
        "colab": {
          "base_uri": "https://localhost:8080/"
        },
        "id": "D1vfWAWk0qMu",
        "outputId": "0fcdee6b-5f70-45e0-9d04-0c511efcb477"
      },
      "execution_count": null,
      "outputs": [
        {
          "output_type": "stream",
          "name": "stdout",
          "text": [
            "313/313 [==============================] - 1s 1ms/step - loss: 0.2096 - accuracy: 0.9415\n"
          ]
        },
        {
          "output_type": "execute_result",
          "data": {
            "text/plain": [
              "[0.20961935818195343, 0.9415000081062317]"
            ]
          },
          "metadata": {},
          "execution_count": 10
        }
      ]
    },
    {
      "cell_type": "code",
      "source": [
        "pd.DataFrame(history.history).plot()"
      ],
      "metadata": {
        "colab": {
          "base_uri": "https://localhost:8080/",
          "height": 447
        },
        "id": "Mm3rTZNA7ckU",
        "outputId": "4f156870-9197-4e35-a8e5-0e697b78c81f"
      },
      "execution_count": null,
      "outputs": [
        {
          "output_type": "execute_result",
          "data": {
            "text/plain": [
              "<Axes: >"
            ]
          },
          "metadata": {},
          "execution_count": 11
        },
        {
          "output_type": "display_data",
          "data": {
            "text/plain": [
              "<Figure size 640x480 with 1 Axes>"
            ],
            "image/png": "[encoded data removed]"
          },
          "metadata": {}
        }
      ]
    },
    {
      "cell_type": "code",
      "source": [
        "probs = model.predict(x_test)\n",
        "probs[0], tf.argmax(probs[0])"
      ],
      "metadata": {
        "colab": {
          "base_uri": "https://localhost:8080/"
        },
        "id": "FFDjNYsP76c1",
        "outputId": "97ac273f-6675-4656-d6ee-2467f22cacb7"
      },
      "execution_count": null,
      "outputs": [
        {
          "output_type": "stream",
          "name": "stdout",
          "text": [
            "313/313 [==============================] - 0s 1ms/step\n"
          ]
        },
        {
          "output_type": "execute_result",
          "data": {
            "text/plain": [
              "(array([4.8978073e-08, 3.3442061e-06, 3.3747806e-04, 5.6168185e-05,\n",
              "        1.8205346e-10, 2.3011202e-07, 1.5779109e-14, 9.9958128e-01,\n",
              "        4.6582359e-06, 1.6731654e-05], dtype=float32),\n",
              " <tf.Tensor: shape=(), dtype=int64, numpy=7>)"
            ]
          },
          "metadata": {},
          "execution_count": 12
        }
      ]
    },
    {
      "cell_type": "code",
      "source": [
        "preds = tf.argmax(probs, axis=1)\n",
        "preds[:4]"
      ],
      "metadata": {
        "colab": {
          "base_uri": "https://localhost:8080/"
        },
        "id": "xzMKKhgs8dHC",
        "outputId": "56a58a2f-aaf8-4db5-b770-b333dd391c3f"
      },
      "execution_count": null,
      "outputs": [
        {
          "output_type": "execute_result",
          "data": {
            "text/plain": [
              "<tf.Tensor: shape=(4,), dtype=int64, numpy=array([7, 2, 1, 0])>"
            ]
          },
          "metadata": {},
          "execution_count": 13
        }
      ]
    },
    {
      "cell_type": "code",
      "source": [
        "import random\n",
        "\n",
        "def plot_random_image(model, images, true_labels):\n",
        "  i = random.randint(0, len(images))\n",
        "\n",
        "  target_image = images[i]\n",
        "  pred_probs = model.predict(target_image.reshape(1, 28, 28))\n",
        "  pred_label = pred_probs.argmax()\n",
        "  true_label = true_labels[i]\n",
        "\n",
        "  plt.imshow(target_image, cmap=plt.cm.binary)\n",
        "\n",
        "  if pred_label==true_label:\n",
        "    color = \"green\"\n",
        "  else:\n",
        "    color = \"red\"\n",
        "\n",
        "  plt.xlabel(\"Pred: {} (True:{})\".format(pred_label, true_label), color=color)"
      ],
      "metadata": {
        "id": "ukLiGA0g7ktm"
      },
      "execution_count": null,
      "outputs": []
    },
    {
      "cell_type": "code",
      "source": [
        "\n",
        "plot_random_image(model=model, images=x_train, true_labels=y_train)"
      ],
      "metadata": {
        "colab": {
          "base_uri": "https://localhost:8080/",
          "height": 466
        },
        "id": "OZcEkxSn84VK",
        "outputId": "e2ae78e6-6221-4374-9c96-99026c8ec8ad"
      },
      "execution_count": null,
      "outputs": [
        {
          "output_type": "stream",
          "name": "stdout",
          "text": [
            "1/1 [==============================] - 0s 22ms/step\n"
          ]
        },
        {
          "output_type": "display_data",
          "data": {
            "text/plain": [
              "<Figure size 640x480 with 1 Axes>"
            ],
            "image/png": "[encoded data removed]"
          },
          "metadata": {}
        }
      ]
    },
    {
      "cell_type": "code",
      "source": [],
      "metadata": {
        "id": "1yyQk0wb9A9t"
      },
      "execution_count": null,
      "outputs": []
    }
  ]
}